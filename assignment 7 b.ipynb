{
 "cells": [
  {
   "cell_type": "code",
   "execution_count": 1,
   "id": "8ba69f8f",
   "metadata": {},
   "outputs": [
    {
     "name": "stdout",
     "output_type": "stream",
     "text": [
      "Data has been saved to 'youtube_videos.csv' file.\n"
     ]
    }
   ],
   "source": [
    "import requests\n",
    "from bs4 import BeautifulSoup\n",
    "import csv\n",
    "\n",
    "# Function to extract video details\n",
    "def extract_video_details(url):\n",
    "    # Send a GET request to the URL\n",
    "    response = requests.get(url)\n",
    "    # Parse the HTML content\n",
    "    soup = BeautifulSoup(response.content, 'html.parser')\n",
    "    \n",
    "    # Initialize lists to store video details\n",
    "    video_urls = []\n",
    "    thumbnail_urls = []\n",
    "    video_titles = []\n",
    "    view_counts = []\n",
    "    posting_times = []\n",
    "    \n",
    "    # Find all video elements\n",
    "    videos = soup.findAll('div', class_='style-scope ytd-grid-video-renderer')\n",
    "    \n",
    "    # Extract details of the videos\n",
    "    for video in videos:\n",
    "        # Extract video URL\n",
    "        video_url = video.find('a', class_='yt-simple-endpoint')['href']\n",
    "        video_urls.append('https://www.youtube.com' + video_url)\n",
    "        \n",
    "        # Extract thumbnail URL\n",
    "        thumbnail_url = video.find('img', class_='style-scope yt-img-shadow')['src']\n",
    "        thumbnail_urls.append(thumbnail_url)\n",
    "        \n",
    "        # Extract video title\n",
    "        video_title = video.find('a', class_='yt-simple-endpoint').text.strip()\n",
    "        video_titles.append(video_title)\n",
    "        \n",
    "        # Extract view count\n",
    "        view_count = video.find('span', class_='style-scope ytd-grid-video-renderer').text.split()[0]\n",
    "        view_counts.append(view_count)\n",
    "        \n",
    "        # Extract posting time\n",
    "        posting_time = video.find('span', class_='style-scope ytd-grid-video-renderer').text\n",
    "        posting_times.append(posting_time)\n",
    "    \n",
    "    return video_urls, thumbnail_urls, video_titles, view_counts, posting_times\n",
    "\n",
    "# URL of the YouTube channel\n",
    "url = 'https://www.youtube.com/@PW-Foundation/videos'\n",
    "\n",
    "# Extract video details\n",
    "video_urls, thumbnail_urls, video_titles, view_counts, posting_times = extract_video_details(url)\n",
    "\n",
    "# Write the extracted data to a CSV file\n",
    "with open('youtube_videos.csv', 'w', newline='', encoding='utf-8') as csvfile:\n",
    "    writer = csv.writer(csvfile)\n",
    "    writer.writerow(['Video URL', 'Thumbnail URL', 'Title', 'View Count', 'Posting Time'])\n",
    "    for i in range(min(5, len(video_urls))):  # Ensure we don't go beyond available videos\n",
    "        writer.writerow([video_urls[i], thumbnail_urls[i], video_titles[i], view_counts[i], posting_times[i]])\n",
    "\n",
    "print(\"Data has been saved to 'youtube_videos.csv' file.\")"
   ]
  },
  {
   "cell_type": "code",
   "execution_count": null,
   "id": "6590418d",
   "metadata": {},
   "outputs": [],
   "source": []
  }
 ],
 "metadata": {
  "kernelspec": {
   "display_name": "Python 3 (ipykernel)",
   "language": "python",
   "name": "python3"
  },
  "language_info": {
   "codemirror_mode": {
    "name": "ipython",
    "version": 3
   },
   "file_extension": ".py",
   "mimetype": "text/x-python",
   "name": "python",
   "nbconvert_exporter": "python",
   "pygments_lexer": "ipython3",
   "version": "3.11.4"
  }
 },
 "nbformat": 4,
 "nbformat_minor": 5
}
